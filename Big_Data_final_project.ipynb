{
  "nbformat": 4,
  "nbformat_minor": 0,
  "metadata": {
    "colab": {
      "provenance": [],
      "collapsed_sections": [
        "qmdUQsdeCzz3",
        "zZoHPvS3DHSX",
        "cYXocJfTyW-_"
      ]
    },
    "kernelspec": {
      "name": "python3",
      "display_name": "Python 3"
    },
    "language_info": {
      "name": "python"
    },
    "accelerator": "GPU",
    "gpuClass": "standard"
  },
  "cells": [
    {
      "cell_type": "markdown",
      "source": [
        "#**Customer Churn Prediction on Sparkify Dataset**\n"
      ],
      "metadata": {
        "id": "B2exxG3g85qY"
      }
    },
    {
      "cell_type": "code",
      "execution_count": 1,
      "metadata": {
        "colab": {
          "base_uri": "https://localhost:8080/"
        },
        "id": "Jc2FdEeMleFh",
        "outputId": "374199db-5012-479b-cd33-ca250ff30a70"
      },
      "outputs": [
        {
          "output_type": "stream",
          "name": "stdout",
          "text": [
            "Looking in indexes: https://pypi.org/simple, https://us-python.pkg.dev/colab-wheels/public/simple/\n",
            "Requirement already satisfied: pyspark in /usr/local/lib/python3.8/dist-packages (3.3.1)\n",
            "Requirement already satisfied: py4j in /usr/local/lib/python3.8/dist-packages (0.10.9.5)\n"
          ]
        }
      ],
      "source": [
        "!pip install pyspark py4j"
      ]
    },
    {
      "cell_type": "code",
      "source": [
        "from google.colab import drive\n",
        "drive.mount('/content/drive')"
      ],
      "metadata": {
        "colab": {
          "base_uri": "https://localhost:8080/"
        },
        "id": "MDUdzMdvOlNW",
        "outputId": "294fd52d-fdbc-4c45-d22e-e5461e54756a"
      },
      "execution_count": 2,
      "outputs": [
        {
          "output_type": "stream",
          "name": "stdout",
          "text": [
            "Drive already mounted at /content/drive; to attempt to forcibly remount, call drive.mount(\"/content/drive\", force_remount=True).\n"
          ]
        }
      ]
    },
    {
      "cell_type": "markdown",
      "source": [
        "#### Importing Libraries"
      ],
      "metadata": {
        "id": "6uS4G9na9bSP"
      }
    },
    {
      "cell_type": "code",
      "source": [
        "from pyspark.sql import SparkSession\n",
        "from pyspark.sql.functions import *\n",
        "from pyspark.sql.types import *\n",
        "import pandas as pd\n",
        "import seaborn as sns\n",
        "from matplotlib import pyplot as plt\n",
        "from pyspark.context import SparkContext\n",
        "from pyspark.sql.session import SparkSession\n",
        "from pyspark.ml.feature import StringIndexer, VectorAssembler\n",
        "\n",
        "from pyspark.ml.evaluation import  MulticlassClassificationEvaluator\n",
        "from pyspark.ml import Pipeline"
      ],
      "metadata": {
        "id": "j5Xqk_IRmnhx"
      },
      "execution_count": 3,
      "outputs": []
    },
    {
      "cell_type": "markdown",
      "source": [
        "#### Creating the Spark Connection"
      ],
      "metadata": {
        "id": "mCW6N3pn9hZ-"
      }
    },
    {
      "cell_type": "code",
      "source": [
        "sc = SparkContext.getOrCreate();\n",
        "spark = SparkSession(sc)\n",
        "df = spark.read.json(\"/content/drive/MyDrive/sparkify_dataset.json\")"
      ],
      "metadata": {
        "id": "YAtC4Llpn3NT"
      },
      "execution_count": 4,
      "outputs": []
    },
    {
      "cell_type": "markdown",
      "source": [
        "## **Data Visualization**"
      ],
      "metadata": {
        "id": "3RWagg2tydmb"
      }
    },
    {
      "cell_type": "code",
      "source": [
        "df.count()"
      ],
      "metadata": {
        "id": "rtTdV4WUuZRn",
        "colab": {
          "base_uri": "https://localhost:8080/"
        },
        "outputId": "47c55a4d-dce5-4936-c944-94e517c16d51"
      },
      "execution_count": 5,
      "outputs": [
        {
          "output_type": "execute_result",
          "data": {
            "text/plain": [
              "543705"
            ]
          },
          "metadata": {},
          "execution_count": 5
        }
      ]
    },
    {
      "cell_type": "code",
      "source": [
        "pd.DataFrame(df.take(5), columns=df.columns).head()"
      ],
      "metadata": {
        "id": "aQAVS23PwQNd",
        "colab": {
          "base_uri": "https://localhost:8080/",
          "height": 372
        },
        "outputId": "e6ee348b-7d14-4284-9f6d-82e97c5f1952"
      },
      "execution_count": 6,
      "outputs": [
        {
          "output_type": "execute_result",
          "data": {
            "text/plain": [
              "              artist       auth firstName gender  itemInSession  lastName  \\\n",
              "0      Martin Orford  Logged In    Joseph      M             20   Morales   \n",
              "1  John Brown's Body  Logged In    Sawyer      M             74    Larson   \n",
              "2            Afroman  Logged In  Maverick      M            184  Santiago   \n",
              "3               None  Logged In  Maverick      M            185  Santiago   \n",
              "4         Lily Allen  Logged In    Gianna      F             22    Campos   \n",
              "\n",
              "      length level                              location method      page  \\\n",
              "0  597.55057  free                    Corpus Christi, TX    PUT  NextSong   \n",
              "1  380.21179  free  Houston-The Woodlands-Sugar Land, TX    PUT  NextSong   \n",
              "2  202.37016  paid         Orlando-Kissimmee-Sanford, FL    PUT  NextSong   \n",
              "3        NaN  paid         Orlando-Kissimmee-Sanford, FL    PUT    Logout   \n",
              "4  194.53342  paid                            Mobile, AL    PUT  NextSong   \n",
              "\n",
              "    registration  sessionId                song  status             ts  \\\n",
              "0  1532063507000        292       Grand Designs     200  1538352011000   \n",
              "1  1538069638000         97               Bulls     200  1538352025000   \n",
              "2  1535953455000        178  Because I Got High     200  1538352118000   \n",
              "3  1535953455000        178                None     307  1538352119000   \n",
              "4  1535931018000        245  Smile (Radio Edit)     200  1538352124000   \n",
              "\n",
              "                                           userAgent userId  \n",
              "0  \"Mozilla/5.0 (Macintosh; Intel Mac OS X 10_9_4...    293  \n",
              "1  \"Mozilla/5.0 (Macintosh; Intel Mac OS X 10_9_4...     98  \n",
              "2  \"Mozilla/5.0 (Macintosh; Intel Mac OS X 10_9_4...    179  \n",
              "3  \"Mozilla/5.0 (Macintosh; Intel Mac OS X 10_9_4...    179  \n",
              "4  Mozilla/5.0 (Windows NT 6.1; WOW64; rv:31.0) G...    246  "
            ],
            "text/html": [
              "\n",
              "  <div id=\"df-a0175e6d-c59f-4235-8ad7-c9ec728bf26b\">\n",
              "    <div class=\"colab-df-container\">\n",
              "      <div>\n",
              "<style scoped>\n",
              "    .dataframe tbody tr th:only-of-type {\n",
              "        vertical-align: middle;\n",
              "    }\n",
              "\n",
              "    .dataframe tbody tr th {\n",
              "        vertical-align: top;\n",
              "    }\n",
              "\n",
              "    .dataframe thead th {\n",
              "        text-align: right;\n",
              "    }\n",
              "</style>\n",
              "<table border=\"1\" class=\"dataframe\">\n",
              "  <thead>\n",
              "    <tr style=\"text-align: right;\">\n",
              "      <th></th>\n",
              "      <th>artist</th>\n",
              "      <th>auth</th>\n",
              "      <th>firstName</th>\n",
              "      <th>gender</th>\n",
              "      <th>itemInSession</th>\n",
              "      <th>lastName</th>\n",
              "      <th>length</th>\n",
              "      <th>level</th>\n",
              "      <th>location</th>\n",
              "      <th>method</th>\n",
              "      <th>page</th>\n",
              "      <th>registration</th>\n",
              "      <th>sessionId</th>\n",
              "      <th>song</th>\n",
              "      <th>status</th>\n",
              "      <th>ts</th>\n",
              "      <th>userAgent</th>\n",
              "      <th>userId</th>\n",
              "    </tr>\n",
              "  </thead>\n",
              "  <tbody>\n",
              "    <tr>\n",
              "      <th>0</th>\n",
              "      <td>Martin Orford</td>\n",
              "      <td>Logged In</td>\n",
              "      <td>Joseph</td>\n",
              "      <td>M</td>\n",
              "      <td>20</td>\n",
              "      <td>Morales</td>\n",
              "      <td>597.55057</td>\n",
              "      <td>free</td>\n",
              "      <td>Corpus Christi, TX</td>\n",
              "      <td>PUT</td>\n",
              "      <td>NextSong</td>\n",
              "      <td>1532063507000</td>\n",
              "      <td>292</td>\n",
              "      <td>Grand Designs</td>\n",
              "      <td>200</td>\n",
              "      <td>1538352011000</td>\n",
              "      <td>\"Mozilla/5.0 (Macintosh; Intel Mac OS X 10_9_4...</td>\n",
              "      <td>293</td>\n",
              "    </tr>\n",
              "    <tr>\n",
              "      <th>1</th>\n",
              "      <td>John Brown's Body</td>\n",
              "      <td>Logged In</td>\n",
              "      <td>Sawyer</td>\n",
              "      <td>M</td>\n",
              "      <td>74</td>\n",
              "      <td>Larson</td>\n",
              "      <td>380.21179</td>\n",
              "      <td>free</td>\n",
              "      <td>Houston-The Woodlands-Sugar Land, TX</td>\n",
              "      <td>PUT</td>\n",
              "      <td>NextSong</td>\n",
              "      <td>1538069638000</td>\n",
              "      <td>97</td>\n",
              "      <td>Bulls</td>\n",
              "      <td>200</td>\n",
              "      <td>1538352025000</td>\n",
              "      <td>\"Mozilla/5.0 (Macintosh; Intel Mac OS X 10_9_4...</td>\n",
              "      <td>98</td>\n",
              "    </tr>\n",
              "    <tr>\n",
              "      <th>2</th>\n",
              "      <td>Afroman</td>\n",
              "      <td>Logged In</td>\n",
              "      <td>Maverick</td>\n",
              "      <td>M</td>\n",
              "      <td>184</td>\n",
              "      <td>Santiago</td>\n",
              "      <td>202.37016</td>\n",
              "      <td>paid</td>\n",
              "      <td>Orlando-Kissimmee-Sanford, FL</td>\n",
              "      <td>PUT</td>\n",
              "      <td>NextSong</td>\n",
              "      <td>1535953455000</td>\n",
              "      <td>178</td>\n",
              "      <td>Because I Got High</td>\n",
              "      <td>200</td>\n",
              "      <td>1538352118000</td>\n",
              "      <td>\"Mozilla/5.0 (Macintosh; Intel Mac OS X 10_9_4...</td>\n",
              "      <td>179</td>\n",
              "    </tr>\n",
              "    <tr>\n",
              "      <th>3</th>\n",
              "      <td>None</td>\n",
              "      <td>Logged In</td>\n",
              "      <td>Maverick</td>\n",
              "      <td>M</td>\n",
              "      <td>185</td>\n",
              "      <td>Santiago</td>\n",
              "      <td>NaN</td>\n",
              "      <td>paid</td>\n",
              "      <td>Orlando-Kissimmee-Sanford, FL</td>\n",
              "      <td>PUT</td>\n",
              "      <td>Logout</td>\n",
              "      <td>1535953455000</td>\n",
              "      <td>178</td>\n",
              "      <td>None</td>\n",
              "      <td>307</td>\n",
              "      <td>1538352119000</td>\n",
              "      <td>\"Mozilla/5.0 (Macintosh; Intel Mac OS X 10_9_4...</td>\n",
              "      <td>179</td>\n",
              "    </tr>\n",
              "    <tr>\n",
              "      <th>4</th>\n",
              "      <td>Lily Allen</td>\n",
              "      <td>Logged In</td>\n",
              "      <td>Gianna</td>\n",
              "      <td>F</td>\n",
              "      <td>22</td>\n",
              "      <td>Campos</td>\n",
              "      <td>194.53342</td>\n",
              "      <td>paid</td>\n",
              "      <td>Mobile, AL</td>\n",
              "      <td>PUT</td>\n",
              "      <td>NextSong</td>\n",
              "      <td>1535931018000</td>\n",
              "      <td>245</td>\n",
              "      <td>Smile (Radio Edit)</td>\n",
              "      <td>200</td>\n",
              "      <td>1538352124000</td>\n",
              "      <td>Mozilla/5.0 (Windows NT 6.1; WOW64; rv:31.0) G...</td>\n",
              "      <td>246</td>\n",
              "    </tr>\n",
              "  </tbody>\n",
              "</table>\n",
              "</div>\n",
              "      <button class=\"colab-df-convert\" onclick=\"convertToInteractive('df-a0175e6d-c59f-4235-8ad7-c9ec728bf26b')\"\n",
              "              title=\"Convert this dataframe to an interactive table.\"\n",
              "              style=\"display:none;\">\n",
              "        \n",
              "  <svg xmlns=\"http://www.w3.org/2000/svg\" height=\"24px\"viewBox=\"0 0 24 24\"\n",
              "       width=\"24px\">\n",
              "    <path d=\"M0 0h24v24H0V0z\" fill=\"none\"/>\n",
              "    <path d=\"M18.56 5.44l.94 2.06.94-2.06 2.06-.94-2.06-.94-.94-2.06-.94 2.06-2.06.94zm-11 1L8.5 8.5l.94-2.06 2.06-.94-2.06-.94L8.5 2.5l-.94 2.06-2.06.94zm10 10l.94 2.06.94-2.06 2.06-.94-2.06-.94-.94-2.06-.94 2.06-2.06.94z\"/><path d=\"M17.41 7.96l-1.37-1.37c-.4-.4-.92-.59-1.43-.59-.52 0-1.04.2-1.43.59L10.3 9.45l-7.72 7.72c-.78.78-.78 2.05 0 2.83L4 21.41c.39.39.9.59 1.41.59.51 0 1.02-.2 1.41-.59l7.78-7.78 2.81-2.81c.8-.78.8-2.07 0-2.86zM5.41 20L4 18.59l7.72-7.72 1.47 1.35L5.41 20z\"/>\n",
              "  </svg>\n",
              "      </button>\n",
              "      \n",
              "  <style>\n",
              "    .colab-df-container {\n",
              "      display:flex;\n",
              "      flex-wrap:wrap;\n",
              "      gap: 12px;\n",
              "    }\n",
              "\n",
              "    .colab-df-convert {\n",
              "      background-color: #E8F0FE;\n",
              "      border: none;\n",
              "      border-radius: 50%;\n",
              "      cursor: pointer;\n",
              "      display: none;\n",
              "      fill: #1967D2;\n",
              "      height: 32px;\n",
              "      padding: 0 0 0 0;\n",
              "      width: 32px;\n",
              "    }\n",
              "\n",
              "    .colab-df-convert:hover {\n",
              "      background-color: #E2EBFA;\n",
              "      box-shadow: 0px 1px 2px rgba(60, 64, 67, 0.3), 0px 1px 3px 1px rgba(60, 64, 67, 0.15);\n",
              "      fill: #174EA6;\n",
              "    }\n",
              "\n",
              "    [theme=dark] .colab-df-convert {\n",
              "      background-color: #3B4455;\n",
              "      fill: #D2E3FC;\n",
              "    }\n",
              "\n",
              "    [theme=dark] .colab-df-convert:hover {\n",
              "      background-color: #434B5C;\n",
              "      box-shadow: 0px 1px 3px 1px rgba(0, 0, 0, 0.15);\n",
              "      filter: drop-shadow(0px 1px 2px rgba(0, 0, 0, 0.3));\n",
              "      fill: #FFFFFF;\n",
              "    }\n",
              "  </style>\n",
              "\n",
              "      <script>\n",
              "        const buttonEl =\n",
              "          document.querySelector('#df-a0175e6d-c59f-4235-8ad7-c9ec728bf26b button.colab-df-convert');\n",
              "        buttonEl.style.display =\n",
              "          google.colab.kernel.accessAllowed ? 'block' : 'none';\n",
              "\n",
              "        async function convertToInteractive(key) {\n",
              "          const element = document.querySelector('#df-a0175e6d-c59f-4235-8ad7-c9ec728bf26b');\n",
              "          const dataTable =\n",
              "            await google.colab.kernel.invokeFunction('convertToInteractive',\n",
              "                                                     [key], {});\n",
              "          if (!dataTable) return;\n",
              "\n",
              "          const docLinkHtml = 'Like what you see? Visit the ' +\n",
              "            '<a target=\"_blank\" href=https://colab.research.google.com/notebooks/data_table.ipynb>data table notebook</a>'\n",
              "            + ' to learn more about interactive tables.';\n",
              "          element.innerHTML = '';\n",
              "          dataTable['output_type'] = 'display_data';\n",
              "          await google.colab.output.renderOutput(dataTable, element);\n",
              "          const docLink = document.createElement('div');\n",
              "          docLink.innerHTML = docLinkHtml;\n",
              "          element.appendChild(docLink);\n",
              "        }\n",
              "      </script>\n",
              "    </div>\n",
              "  </div>\n",
              "  "
            ]
          },
          "metadata": {},
          "execution_count": 6
        }
      ]
    },
    {
      "cell_type": "code",
      "source": [
        "df.printSchema()"
      ],
      "metadata": {
        "id": "hbYsbbRFxS_r",
        "colab": {
          "base_uri": "https://localhost:8080/"
        },
        "outputId": "50840341-723e-4fc9-b129-367b0216442b"
      },
      "execution_count": 7,
      "outputs": [
        {
          "output_type": "stream",
          "name": "stdout",
          "text": [
            "root\n",
            " |-- artist: string (nullable = true)\n",
            " |-- auth: string (nullable = true)\n",
            " |-- firstName: string (nullable = true)\n",
            " |-- gender: string (nullable = true)\n",
            " |-- itemInSession: long (nullable = true)\n",
            " |-- lastName: string (nullable = true)\n",
            " |-- length: double (nullable = true)\n",
            " |-- level: string (nullable = true)\n",
            " |-- location: string (nullable = true)\n",
            " |-- method: string (nullable = true)\n",
            " |-- page: string (nullable = true)\n",
            " |-- registration: long (nullable = true)\n",
            " |-- sessionId: long (nullable = true)\n",
            " |-- song: string (nullable = true)\n",
            " |-- status: long (nullable = true)\n",
            " |-- ts: long (nullable = true)\n",
            " |-- userAgent: string (nullable = true)\n",
            " |-- userId: string (nullable = true)\n",
            "\n"
          ]
        }
      ]
    },
    {
      "cell_type": "code",
      "source": [
        "## Number of Distinct Records\n",
        "df.select('userId').distinct().count()"
      ],
      "metadata": {
        "id": "wVNCt1LCxTB0",
        "colab": {
          "base_uri": "https://localhost:8080/"
        },
        "outputId": "7e44b5b6-8efe-4a63-c818-5deb3a52a3de"
      },
      "execution_count": 8,
      "outputs": [
        {
          "output_type": "execute_result",
          "data": {
            "text/plain": [
              "449"
            ]
          },
          "metadata": {},
          "execution_count": 8
        }
      ]
    },
    {
      "cell_type": "code",
      "source": [
        "## Number of Distinct Authorizations\n",
        "df.select('auth').distinct().count()"
      ],
      "metadata": {
        "id": "DLXqULqy-b-u",
        "colab": {
          "base_uri": "https://localhost:8080/"
        },
        "outputId": "99a498c5-35e3-4060-d6ce-66e383e86da2"
      },
      "execution_count": 9,
      "outputs": [
        {
          "output_type": "execute_result",
          "data": {
            "text/plain": [
              "4"
            ]
          },
          "metadata": {},
          "execution_count": 9
        }
      ]
    },
    {
      "cell_type": "code",
      "source": [
        "## Number of Distinct Levels\n",
        "df.select('level').distinct().count()"
      ],
      "metadata": {
        "id": "X2Z6ZT1qDj5q",
        "colab": {
          "base_uri": "https://localhost:8080/"
        },
        "outputId": "ae8b49ff-4a32-46f2-f4dc-938b281fdc1c"
      },
      "execution_count": 10,
      "outputs": [
        {
          "output_type": "execute_result",
          "data": {
            "text/plain": [
              "2"
            ]
          },
          "metadata": {},
          "execution_count": 10
        }
      ]
    },
    {
      "cell_type": "code",
      "source": [
        "## Number of Distinct gender\n",
        "df.select('gender').distinct().count()"
      ],
      "metadata": {
        "id": "XeoekSzKDpB_",
        "colab": {
          "base_uri": "https://localhost:8080/"
        },
        "outputId": "7d159f2e-3490-47a3-a9fe-17f50685ed83"
      },
      "execution_count": 11,
      "outputs": [
        {
          "output_type": "execute_result",
          "data": {
            "text/plain": [
              "3"
            ]
          },
          "metadata": {},
          "execution_count": 11
        }
      ]
    },
    {
      "cell_type": "markdown",
      "source": [
        "#### Plotting Authentication status vs Number of Users"
      ],
      "metadata": {
        "id": "yb8hzvNdCkaT"
      }
    },
    {
      "cell_type": "code",
      "source": [
        "auth_df = df.select('auth').groupBy('auth').count().toPandas()\n",
        "auth_df.index = auth_df.auth\n",
        "auth_df.plot.bar()"
      ],
      "metadata": {
        "id": "XuoucPH0R8K_",
        "colab": {
          "base_uri": "https://localhost:8080/",
          "height": 344
        },
        "outputId": "a902c228-6597-4535-b7b0-23abbdb357af"
      },
      "execution_count": 12,
      "outputs": [
        {
          "output_type": "execute_result",
          "data": {
            "text/plain": [
              "<matplotlib.axes._subplots.AxesSubplot at 0x7f19b7b46dc0>"
            ]
          },
          "metadata": {},
          "execution_count": 12
        },
        {
          "output_type": "display_data",
          "data": {
            "text/plain": [
              "<Figure size 432x288 with 1 Axes>"
            ],
            "image/png": "[encoded data removed]"
          },
          "metadata": {
            "needs_background": "light"
          }
        }
      ]
    },
    {
      "cell_type": "markdown",
      "source": [],
      "metadata": {
        "id": "YzGNYKECCtT4"
      }
    },
    {
      "cell_type": "markdown",
      "source": [
        "#### Plotting Subscription Level (free or paid) vs Number of Users"
      ],
      "metadata": {
        "id": "qmdUQsdeCzz3"
      }
    },
    {
      "cell_type": "code",
      "source": [
        "level_df = df.select('level').groupBy('level').count().toPandas()\n",
        "#level_df.plot.bar()\n",
        "level_df.index = level_df.level\n",
        "level_df.plot.bar()"
      ],
      "metadata": {
        "id": "7hTVOTXXSINZ",
        "colab": {
          "base_uri": "https://localhost:8080/",
          "height": 0
        },
        "outputId": "3f52a154-720a-499a-fa81-bd74603d685c"
      },
      "execution_count": 13,
      "outputs": [
        {
          "output_type": "execute_result",
          "data": {
            "text/plain": [
              "<matplotlib.axes._subplots.AxesSubplot at 0x7f19b7a1f7f0>"
            ]
          },
          "metadata": {},
          "execution_count": 13
        },
        {
          "output_type": "display_data",
          "data": {
            "text/plain": [
              "<Figure size 432x288 with 1 Axes>"
            ],
            "image/png": "[encoded data removed]"
          },
          "metadata": {
            "needs_background": "light"
          }
        }
      ]
    },
    {
      "cell_type": "markdown",
      "source": [
        "#### Plotting Gender (Female or Male or None) vs Number of Users"
      ],
      "metadata": {
        "id": "zZoHPvS3DHSX"
      }
    },
    {
      "cell_type": "code",
      "source": [
        "gender_df= df.select('gender').groupBy('gender').count().toPandas()\n",
        "gender_df.index =gender_df.gender\n",
        "#gender_df\n",
        "gender_df.plot.bar()"
      ],
      "metadata": {
        "id": "ImGz2-2MSbzG",
        "colab": {
          "base_uri": "https://localhost:8080/",
          "height": 0
        },
        "outputId": "62cd9b5d-92db-4ab2-a097-c5b0704a0002"
      },
      "execution_count": 14,
      "outputs": [
        {
          "output_type": "execute_result",
          "data": {
            "text/plain": [
              "<matplotlib.axes._subplots.AxesSubplot at 0x7f19b75c5910>"
            ]
          },
          "metadata": {},
          "execution_count": 14
        },
        {
          "output_type": "display_data",
          "data": {
            "text/plain": [
              "<Figure size 432x288 with 1 Axes>"
            ],
            "image/png": "[encoded data removed]"
          },
          "metadata": {
            "needs_background": "light"
          }
        }
      ]
    },
    {
      "cell_type": "markdown",
      "source": [
        "### **Data Sanity Checks**"
      ],
      "metadata": {
        "id": "cYXocJfTyW-_"
      }
    },
    {
      "cell_type": "code",
      "source": [
        "df.select([count(when(isnull(c), c)).alias(c) for c in df.columns]).show()\n",
        "#df.select([count(when(isnull(c), c)) for c in df.columns]).show()"
      ],
      "metadata": {
        "id": "gtn_TiF8xTEN",
        "colab": {
          "base_uri": "https://localhost:8080/"
        },
        "outputId": "4c3d1186-daca-45a2-87b7-6babce6b817e"
      },
      "execution_count": 15,
      "outputs": [
        {
          "output_type": "stream",
          "name": "stdout",
          "text": [
            "+------+----+---------+------+-------------+--------+------+-----+--------+------+----+------------+---------+------+------+---+---------+------+\n",
            "|artist|auth|firstName|gender|itemInSession|lastName|length|level|location|method|page|registration|sessionId|  song|status| ts|userAgent|userId|\n",
            "+------+----+---------+------+-------------+--------+------+-----+--------+------+----+------------+---------+------+------+---+---------+------+\n",
            "|110828|   0|    15700| 15700|            0|   15700|110828|    0|   15700|     0|   0|       15700|        0|110828|     0|  0|    15700|     0|\n",
            "+------+----+---------+------+-------------+--------+------+-----+--------+------+----+------------+---------+------+------+---+---------+------+\n",
            "\n"
          ]
        }
      ]
    },
    {
      "cell_type": "code",
      "source": [
        "df.where(\"artist is null\").show()"
      ],
      "metadata": {
        "id": "naI-UPjT6gsm",
        "colab": {
          "base_uri": "https://localhost:8080/"
        },
        "outputId": "f8b8c122-0afd-404f-dfbe-63ca78f2949f"
      },
      "execution_count": 16,
      "outputs": [
        {
          "output_type": "stream",
          "name": "stdout",
          "text": [
            "+------+----------+---------+------+-------------+--------+------+-----+--------------------+------+---------------+-------------+---------+----+------+-------------+--------------------+------+\n",
            "|artist|      auth|firstName|gender|itemInSession|lastName|length|level|            location|method|           page| registration|sessionId|song|status|           ts|           userAgent|userId|\n",
            "+------+----------+---------+------+-------------+--------+------+-----+--------------------+------+---------------+-------------+---------+----+------+-------------+--------------------+------+\n",
            "|  null| Logged In| Maverick|     M|          185|Santiago|  null| paid|Orlando-Kissimmee...|   PUT|         Logout|1535953455000|      178|null|   307|1538352119000|\"Mozilla/5.0 (Mac...|   179|\n",
            "|  null|Logged Out|     null|  null|          186|    null|  null| paid|                null|   GET|           Home|         null|      178|null|   200|1538352148000|                null|      |\n",
            "|  null|Logged Out|     null|  null|          187|    null|  null| paid|                null|   GET|           Home|         null|      178|null|   200|1538352151000|                null|      |\n",
            "|  null|Logged Out|     null|  null|          188|    null|  null| paid|                null|   GET|           Home|         null|      178|null|   200|1538352168000|                null|      |\n",
            "|  null|Logged Out|     null|  null|          189|    null|  null| paid|                null|   PUT|          Login|         null|      178|null|   307|1538352169000|                null|      |\n",
            "|  null| Logged In| Maverick|     M|          190|Santiago|  null| paid|Orlando-Kissimmee...|   GET|           Home|1535953455000|      178|null|   200|1538352176000|\"Mozilla/5.0 (Mac...|   179|\n",
            "|  null| Logged In|    Colin|     M|            0|  Larson|  null| free|Dallas-Fort Worth...|   GET|           Home|1537982255000|      497|null|   200|1538352241000|Mozilla/5.0 (Wind...|   100|\n",
            "|  null| Logged In|    Sofia|     F|          268|  Gordon|  null| paid|       Rochester, MN|   GET|      Downgrade|1533175710000|      162|null|   200|1538352336000|\"Mozilla/5.0 (Mac...|   163|\n",
            "|  null| Logged In| Maverick|     M|          192|Santiago|  null| paid|Orlando-Kissimmee...|   PUT|Add to Playlist|1535953455000|      178|null|   200|1538352376000|\"Mozilla/5.0 (Mac...|   179|\n",
            "|  null| Logged In|   Sawyer|     M|           76|  Larson|  null| free|Houston-The Woodl...|   GET|    Roll Advert|1538069638000|       97|null|   200|1538352435000|\"Mozilla/5.0 (Mac...|    98|\n",
            "|  null| Logged In|    Colin|     M|            3|  Larson|  null| free|Dallas-Fort Worth...|   GET|    Roll Advert|1537982255000|      497|null|   200|1538352460000|Mozilla/5.0 (Wind...|   100|\n",
            "|  null| Logged In|    Colin|     M|            5|  Larson|  null| free|Dallas-Fort Worth...|   GET|    Roll Advert|1537982255000|      497|null|   200|1538352650000|Mozilla/5.0 (Wind...|   100|\n",
            "|  null| Logged In|   Payton|     F|           86|Campbell|  null| free|Los Angeles-Long ...|   GET|    Roll Advert|1529027541000|       38|null|   200|1538352718000|\"Mozilla/5.0 (Win...|    39|\n",
            "|  null| Logged In|   Joseph|     M|           23| Morales|  null| free|  Corpus Christi, TX|   PUT|      Thumbs Up|1532063507000|      292|null|   307|1538352789000|\"Mozilla/5.0 (Mac...|   293|\n",
            "|  null| Logged In|   Gianna|     F|           26|  Campos|  null| paid|          Mobile, AL|   PUT|      Thumbs Up|1535931018000|      245|null|   307|1538352835000|Mozilla/5.0 (Wind...|   246|\n",
            "|  null| Logged In|    Colin|     M|            7|  Larson|  null| free|Dallas-Fort Worth...|   GET|    Roll Advert|1537982255000|      497|null|   200|1538352902000|Mozilla/5.0 (Wind...|   100|\n",
            "|  null| Logged In|   Sawyer|     M|           79|  Larson|  null| free|Houston-The Woodl...|   GET|           Help|1538069638000|       97|null|   200|1538352947000|\"Mozilla/5.0 (Mac...|    98|\n",
            "|  null| Logged In|      Kee|     M|            1|  Taylor|  null| free|Virginia Beach-No...|   GET|    Roll Advert|1533764798000|      195|null|   200|1538353076000|\"Mozilla/5.0 (Win...|   196|\n",
            "|  null| Logged In|   Gianna|     F|           28|  Campos|  null| paid|          Mobile, AL|   GET|           Help|1535931018000|      245|null|   200|1538353099000|Mozilla/5.0 (Wind...|   246|\n",
            "|  null| Logged In|   Gianna|     F|           30|  Campos|  null| paid|          Mobile, AL|   PUT|    Thumbs Down|1535931018000|      245|null|   307|1538353279000|Mozilla/5.0 (Wind...|   246|\n",
            "+------+----------+---------+------+-------------+--------+------+-----+--------------------+------+---------------+-------------+---------+----+------+-------------+--------------------+------+\n",
            "only showing top 20 rows\n",
            "\n"
          ]
        }
      ]
    },
    {
      "cell_type": "code",
      "source": [
        "df.where(\"lastName is null\").show()"
      ],
      "metadata": {
        "id": "kvvXNxnd6gxF",
        "colab": {
          "base_uri": "https://localhost:8080/"
        },
        "outputId": "0930862f-476c-46d9-d548-32300ba0a66d"
      },
      "execution_count": 17,
      "outputs": [
        {
          "output_type": "stream",
          "name": "stdout",
          "text": [
            "+------+----------+---------+------+-------------+--------+------+-----+--------+------+-----+------------+---------+----+------+-------------+---------+------+\n",
            "|artist|      auth|firstName|gender|itemInSession|lastName|length|level|location|method| page|registration|sessionId|song|status|           ts|userAgent|userId|\n",
            "+------+----------+---------+------+-------------+--------+------+-----+--------+------+-----+------------+---------+----+------+-------------+---------+------+\n",
            "|  null|Logged Out|     null|  null|          186|    null|  null| paid|    null|   GET| Home|        null|      178|null|   200|1538352148000|     null|      |\n",
            "|  null|Logged Out|     null|  null|          187|    null|  null| paid|    null|   GET| Home|        null|      178|null|   200|1538352151000|     null|      |\n",
            "|  null|Logged Out|     null|  null|          188|    null|  null| paid|    null|   GET| Home|        null|      178|null|   200|1538352168000|     null|      |\n",
            "|  null|Logged Out|     null|  null|          189|    null|  null| paid|    null|   PUT|Login|        null|      178|null|   307|1538352169000|     null|      |\n",
            "|  null|Logged Out|     null|  null|          114|    null|  null| free|    null|   GET| Home|        null|      442|null|   200|1538353292000|     null|      |\n",
            "|  null|Logged Out|     null|  null|           34|    null|  null| free|    null|   GET| Home|        null|      292|null|   200|1538355024000|     null|      |\n",
            "|  null|Logged Out|     null|  null|           35|    null|  null| free|    null|   GET| Help|        null|      292|null|   200|1538355098000|     null|      |\n",
            "|  null|Logged Out|     null|  null|           36|    null|  null| free|    null|   GET| Home|        null|      292|null|   200|1538355178000|     null|      |\n",
            "|  null|Logged Out|     null|  null|           37|    null|  null| free|    null|   GET|About|        null|      292|null|   200|1538355186000|     null|      |\n",
            "|  null|Logged Out|     null|  null|           38|    null|  null| free|    null|   PUT|Login|        null|      292|null|   307|1538355187000|     null|      |\n",
            "|  null|Logged Out|     null|  null|            0|    null|  null| free|    null|   GET| Home|        null|      485|null|   200|1538355854000|     null|      |\n",
            "|  null|Logged Out|     null|  null|            1|    null|  null| free|    null|   PUT|Login|        null|      485|null|   307|1538355855000|     null|      |\n",
            "|  null|Logged Out|     null|  null|            0|    null|  null| free|    null|   PUT|Login|        null|      100|null|   307|1538358102000|     null|      |\n",
            "|  null|Logged Out|     null|  null|          298|    null|  null| paid|    null|   GET| Home|        null|      162|null|   200|1538358271000|     null|      |\n",
            "|  null|Logged Out|     null|  null|          299|    null|  null| paid|    null|   PUT|Login|        null|      162|null|   307|1538358272000|     null|      |\n",
            "|  null|Logged Out|     null|  null|            0|    null|  null| free|    null|   PUT|Login|        null|      511|null|   307|1538358931000|     null|      |\n",
            "|  null|Logged Out|     null|  null|            0|    null|  null| paid|    null|   PUT|Login|        null|      287|null|   307|1538359361000|     null|      |\n",
            "|  null|Logged Out|     null|  null|           43|    null|  null| free|    null|   GET| Home|        null|      497|null|   200|1538360359000|     null|      |\n",
            "|  null|Logged Out|     null|  null|            0|    null|  null| free|    null|   GET| Home|        null|      437|null|   200|1538363343000|     null|      |\n",
            "|  null|Logged Out|     null|  null|            0|    null|  null| free|    null|   GET| Home|        null|       27|null|   200|1538363488000|     null|      |\n",
            "+------+----------+---------+------+-------------+--------+------+-----+--------+------+-----+------------+---------+----+------+-------------+---------+------+\n",
            "only showing top 20 rows\n",
            "\n"
          ]
        }
      ]
    },
    {
      "cell_type": "markdown",
      "source": [
        "# **Data Cleaning & Prepartion**"
      ],
      "metadata": {
        "id": "-E_j_GMnZI8R"
      }
    },
    {
      "cell_type": "code",
      "source": [
        "## Function to Clean the Data\n",
        "def datacleaning(df):\n",
        "  for field in df.schema.fields:\n",
        "        if field.dataType==StringType():\n",
        "            df = df.withColumn(field.name,regexp_replace(field.name,'[^a-zA-Z0-9\\,\\-]',''))\n",
        "              \n",
        "  df1 = df.withColumn('interaction_time', from_unixtime(col('ts').cast(LongType())/1000).cast(TimestampType()))\n",
        "  df2 = df1.withColumn('month', month(col('interaction_time')))\n",
        "  #df2\n",
        "  df3 = df2.withColumn('date', from_unixtime(col('ts')/1000).cast(DateType()))\n",
        "  df4 = df3.withColumn('userId', col('userId').cast(LongType()))\n",
        "  df5 = df4.filter(col('userId').isNotNull())\n",
        "  #print(df5)\n",
        "  df6 = df5.filter(col('auth')!='LoggedOut')\n",
        "  df7 = df6.withColumn('location', split(col('location'),',').getItem(1))\n",
        "  return df7"
      ],
      "metadata": {
        "id": "fcPnv3y4xTIV"
      },
      "execution_count": 18,
      "outputs": []
    },
    {
      "cell_type": "code",
      "source": [
        "## Function to label the data\n",
        "def labelling(df):\n",
        "    labelling = df.withColumn('label',when((col('page').isin(['Cancellation Confirmation','Cancel'])) | (col('auth')=='Cancelled'),1 ).otherwise(0)).groupby('userId').agg(sum('label').alias('label')).withColumn('label', when(col('label')>=1 ,1).otherwise(0))\n",
        "    df = df.join(labelling, on='userId')\n",
        "    #df\n",
        "    return df"
      ],
      "metadata": {
        "id": "yrp3t891xTKq"
      },
      "execution_count": 19,
      "outputs": []
    },
    {
      "cell_type": "code",
      "source": [
        "## Function to check the Registred days\n",
        "def registered_days(df):\n",
        "    lastused =  df.groupBy('userId').agg(max('ts').alias('last_interaction'))\n",
        "    df = lastused.join(df, on='userId').withColumn('registered_days', ((col('last_interaction')-col('registration'))/86400000).cast(IntegerType()))\n",
        "    \n",
        "    return df"
      ],
      "metadata": {
        "id": "HYBa_e4vxTMz"
      },
      "execution_count": 20,
      "outputs": []
    },
    {
      "cell_type": "code",
      "source": [
        "## Function to check the Subscription Level\n",
        "def latest_level(df):\n",
        "    lastlevel = df.orderBy('ts', ascending=False).groupBy('userId').agg(first('level').alias('valid_level'))\n",
        "    df = df.drop('level')\n",
        "    #df\n",
        "    df = df.join(lastlevel, on='userId')\n",
        "    return df"
      ],
      "metadata": {
        "id": "WUcsIA9KmBOx"
      },
      "execution_count": 21,
      "outputs": []
    },
    {
      "cell_type": "code",
      "source": [
        "def avglen(df):\n",
        "    averagelength = df.groupBy('userId').avg('length').withColumnRenamed('avg(length)', 'length')\n",
        "    df = df.drop('length')\n",
        "    #print(df)\n",
        "    df = df.join(averagelength, on='userId')\n",
        "    return df"
      ],
      "metadata": {
        "id": "TsY14zPcmC9V"
      },
      "execution_count": 22,
      "outputs": []
    },
    {
      "cell_type": "code",
      "source": [
        "## Building a Pipline\n",
        "def pipeline(num_cols):\n",
        "    gender =StringIndexer(inputCol='gender', outputCol='gender_index')\n",
        "    location =StringIndexer(inputCol='location', outputCol='location_index')\n",
        "    assembler= VectorAssembler(inputCols=num_cols, outputCol='features')\n",
        "    pipeline= Pipeline(stages=[gender, location, assembler])\n",
        "\n",
        "    return pipeline"
      ],
      "metadata": {
        "id": "89P18c9xitkm"
      },
      "execution_count": 23,
      "outputs": []
    },
    {
      "cell_type": "code",
      "source": [
        "def datapostprocess(features_df):\n",
        "    num_cols = []\n",
        "    \n",
        "    for field in features_df.schema.fields :\n",
        "        if field.dataType!=StringType():\n",
        "            num_cols.append(field.name)\n",
        "            #print(nums_cols)\n",
        "\n",
        "    num_cols.remove('label')\n",
        "\n",
        "    pipeline2 = pipeline(num_cols)\n",
        "    model2 = pipeline2.fit(features_df).transform(features_df)\n",
        "    #type(model_df)\n",
        "    return model2"
      ],
      "metadata": {
        "id": "hCgomX_Litn1"
      },
      "execution_count": 24,
      "outputs": []
    },
    {
      "cell_type": "code",
      "source": [
        "from pyspark.ml.classification import LogisticRegression, RandomForestClassifier, GBTClassifier\n",
        "# Main Function\n",
        "# Function to Predict\n",
        "# We are using 3 models i.e. Logistic Regression , Random Forest and Gradient Boosting\n",
        "def predictionfunction(train, test, model):\n",
        "    #logistic Regression Model\n",
        "    if model == 'Logistic-Regression':\n",
        "        ml = LogisticRegression()\n",
        "    #Random Forest Model\n",
        "    elif model == 'Random-Forest':\n",
        "        ml = RandomForestClassifier()\n",
        "    # Gradient Boosting Model\n",
        "    elif model == 'Gradient-Boost':\n",
        "        ml = GBTClassifier()\n",
        "    else:\n",
        "        return \"Model not valid\"\n",
        "    \n",
        "    clf = ml.fit(train)\n",
        "    results = clf.transform(test)\n",
        "    modeleval(results)\n",
        "    return clf, results"
      ],
      "metadata": {
        "id": "dd5i62DgjEsb"
      },
      "execution_count": 25,
      "outputs": []
    },
    {
      "cell_type": "code",
      "source": [
        "## Function to evaluate the Model\n",
        "from sklearn import metrics\n",
        "def modeleval(results):\n",
        "    f1_score= MulticlassClassificationEvaluator(metricName='f1')\n",
        "    f1_score2= f1_score.evaluate(results.select(col('label'), col('prediction')))\n",
        "    #modelsumm=metrics.classification_report(test,results.select(col('label'), col('prediction')))\n",
        "    #print(\"The summary of the model\", modelsumm)\n",
        "    print('The F1 score on the test set is {:.2%}'.format(f1_score2)) \n",
        "    "
      ],
      "metadata": {
        "id": "I1qwsorKjEvz"
      },
      "execution_count": 26,
      "outputs": []
    },
    {
      "cell_type": "code",
      "source": [
        "def sessionduration(df):\n",
        "    daily = df.groupby('userId','date','sessionId').agg(max('ts').alias('session_end'), min('ts').alias('session_start')).withColumn('session_duration_sec', (col('session_end')-col('session_start'))*0.001).groupby('userId','date').avg('session_duration_sec').groupby('userId').agg(mean('avg(session_duration_sec)').alias('avg_daily_session_duration')).orderBy('userId', ascending=False)\n",
        "\n",
        "    monthly = df.groupby('userId','month','sessionId').agg(max('ts').alias('session_end'), min('ts').alias('session_start')).withColumn('session_duration_sec', (col('session_end')-col('session_start'))*0.001).groupby('userId','month').avg('session_duration_sec').groupby('userId').agg(mean('avg(session_duration_sec)').alias('avg_monthly_session_duration')).orderBy('userId', ascending=False)\n",
        "    \n",
        "    return daily.join(monthly, on='userId')"
      ],
      "metadata": {
        "id": "_uXTt40JokJv"
      },
      "execution_count": 27,
      "outputs": []
    },
    {
      "cell_type": "code",
      "source": [
        "def item_aggregates(df):\n",
        "    daily2 = df.groupby('userId','date').agg(max('itemInSession')).groupBy('userId').avg('max(itemInSession)').withColumnRenamed('avg(max(itemInSession))', 'avg_daily_items')\n",
        "    #daily2\n",
        "    monthly3 = df.groupby('userId','month').agg(max('itemInSession')).groupBy('userId').avg('max(itemInSession)').withColumnRenamed('avg(max(itemInSession))', 'avg_monthly_items')\n",
        "    \n",
        "    return daily2.join(monthly3, on='userId')"
      ],
      "metadata": {
        "id": "b0Z3x3OJoo4r"
      },
      "execution_count": 28,
      "outputs": []
    },
    {
      "cell_type": "code",
      "source": [
        "def pageevent_dailyormonthly(df):\n",
        "    \n",
        "    # Function to calculate the daily averages for each user except the ones that include cancel\n",
        "    pg_daily_df,exp_dict = daily_pg(df)\n",
        "    # Function to calculate the monthly averages for each user except the ones that include cancel\n",
        "    pg_monthly_df = monthly_pg(df,exp_dict)\n",
        "\n",
        "    return pg_daily_df.join(pg_monthly_df, on='userId')"
      ],
      "metadata": {
        "id": "A3F6DGdJosIq"
      },
      "execution_count": 29,
      "outputs": []
    },
    {
      "cell_type": "code",
      "source": [
        "def daily_pg(df):\n",
        "    listOfDistinctPages =[row.page for row in df.select('page').distinct().collect()]\n",
        "    listOfDistinctPages.remove('Cancel')\n",
        "    listOfDistinctPages.remove('CancellationConfirmation')\n",
        "    daily_page_event_df = df.groupby('userId','date').pivot('page').count()\n",
        "    exp_dict={}\n",
        "    for page in listOfDistinctPages:\n",
        "        exp_dict.update({page:'mean'})\n",
        "    daily_page_event_df = daily_page_event_df.join(daily_page_event_df.groupBy('userId').agg(exp_dict).fillna(0), on='userId')\n",
        "\n",
        "    for page in listOfDistinctPages:\n",
        "        daily_page_event_df =daily_page_event_df.drop(page)  \n",
        "        daily_page_event_df= daily_page_event_df.withColumnRenamed('avg({})'.format(page), 'avg_daily_{}'.format(page))\n",
        "\n",
        "    pg_daily_df = daily_page_event_df.drop('Cancel','CancellationConfirmation','date').drop_duplicates()\n",
        "    return pg_daily_df,exp_dict"
      ],
      "metadata": {
        "id": "jN-wlUD5hDHq"
      },
      "execution_count": 30,
      "outputs": []
    },
    {
      "cell_type": "code",
      "source": [
        "def monthly_pg(df,exp_dict):\n",
        "    listOfDistinctPages =[row.page for row in df.select('page').distinct().collect()]\n",
        "    listOfDistinctPages.remove('Cancel')\n",
        "    listOfDistinctPages.remove('CancellationConfirmation')\n",
        "    # exp_dict={}\n",
        "    monthly_page_event_df = df.groupby('userId','month').pivot('page').count()\n",
        "\n",
        "    monthly_page_event_df = monthly_page_event_df.join(monthly_page_event_df.groupBy('userId').agg(exp_dict).fillna(0), on='userId')\n",
        "    for page in listOfDistinctPages:\n",
        "        monthly_page_event_df = monthly_page_event_df.drop(page)    \n",
        "        monthly_page_event_df = monthly_page_event_df.withColumnRenamed('avg({})'.format(page), 'avg_monthly_{}'.format(page))\n",
        "\n",
        "    pg_monthly_df = monthly_page_event_df.drop('Cancel','CancellationConfirmation','month').drop_duplicates()\n",
        "    return pg_monthly_df"
      ],
      "metadata": {
        "id": "NedSbpCbhgja"
      },
      "execution_count": 31,
      "outputs": []
    },
    {
      "cell_type": "code",
      "source": [
        "# def page1(df):\n",
        "#   pages_list = [r.page for r in df.select(\"page\")]\n",
        "#   pages_list.remove('CancellationConfirmation')\n",
        "#   pages_list.remove('Cancellation')\n"
      ],
      "metadata": {
        "id": "YLDGYxTwgXdq"
      },
      "execution_count": 32,
      "outputs": []
    },
    {
      "cell_type": "code",
      "source": [
        "def mergefeature(df, df_sess_duration, df_item, df_page):\n",
        "\n",
        "    alljoined =df_sess_duration.join(df_item, on='userId').join(df_page, on='userId')\n",
        "    #drop the following features\n",
        "    df = df.drop('auth', 'level','length','userAgent','month','date','interaction_time','registration', 'ts','song','page','itemInSession','sessionId','artist','firstName','lastName','method','status')\n",
        "    finaljoined = alljoined.join(df, on='userId')\n",
        "    \n",
        "    finaljoined2 = finaljoined.drop_duplicates()\n",
        "    features = finaljoined2.drop('userId')\n",
        "    \n",
        "    return features"
      ],
      "metadata": {
        "id": "-jr2R1DrosMF"
      },
      "execution_count": 33,
      "outputs": []
    },
    {
      "cell_type": "code",
      "source": [
        "vali = datacleaning(df)\n",
        "labell= labelling(vali)\n",
        "regd= registered_days(labell)\n",
        "df = latest_level(regd)"
      ],
      "metadata": {
        "id": "VnvZwvttxTPB"
      },
      "execution_count": 34,
      "outputs": []
    },
    {
      "cell_type": "code",
      "source": [
        "df.toJSON(\"Clean_Sparkify_Data.json\")"
      ],
      "metadata": {
        "id": "1V8eaNFqDVLd",
        "colab": {
          "base_uri": "https://localhost:8080/"
        },
        "outputId": "ddac4f9c-0f27-4d3f-eeb2-33731cfac117"
      },
      "execution_count": 36,
      "outputs": [
        {
          "output_type": "execute_result",
          "data": {
            "text/plain": [
              "MapPartitionsRDD[205] at toJavaRDD at NativeMethodAccessorImpl.java:0"
            ]
          },
          "metadata": {},
          "execution_count": 36
        }
      ]
    },
    {
      "cell_type": "code",
      "source": [
        "df_count = df.select('userId','gender','valid_level').groupby('gender','valid_level').count().toPandas().sort_values(by='count')\n",
        "## Plotting Free or Paid Subscription vs Male or Female users\n",
        "fig = plt.figure(figsize=(8,8))\n",
        "ax = fig.gca()\n",
        "plt.rcParams[\"font.size\"] = \"20\"\n",
        "df_count.pivot(index='valid_level', columns='gender', values='count').plot(kind='bar', ax=ax)"
      ],
      "metadata": {
        "id": "bfmobgx7tKcd",
        "colab": {
          "base_uri": "https://localhost:8080/",
          "height": 526
        },
        "outputId": "9f0b4c1b-96e0-4258-99b0-e9fd2dae4528"
      },
      "execution_count": 37,
      "outputs": [
        {
          "output_type": "execute_result",
          "data": {
            "text/plain": [
              "<matplotlib.axes._subplots.AxesSubplot at 0x7f19b6db52e0>"
            ]
          },
          "metadata": {},
          "execution_count": 37
        },
        {
          "output_type": "display_data",
          "data": {
            "text/plain": [
              "<Figure size 576x576 with 1 Axes>"
            ],
            "image/png": "[encoded data removed]"
          },
          "metadata": {
            "needs_background": "light"
          }
        }
      ]
    },
    {
      "cell_type": "code",
      "source": [
        "df_count_ = df.select('userId','valid_level','label').groupby('valid_level','label').count().toPandas().sort_values(by='count')\n",
        "fig = plt.figure(figsize=(8,8))\n",
        "ax = fig.gca()\n",
        "plt.rcParams[\"font.size\"] = \"20\"\n",
        "df_count_.pivot(index='label', columns='valid_level', values='count').plot(kind='bar', ax=ax)"
      ],
      "metadata": {
        "id": "M3euo4SxtK1Z",
        "colab": {
          "base_uri": "https://localhost:8080/",
          "height": 526
        },
        "outputId": "42e50a5c-383d-4654-b8ab-ec3ce9c96c7e"
      },
      "execution_count": 38,
      "outputs": [
        {
          "output_type": "execute_result",
          "data": {
            "text/plain": [
              "<matplotlib.axes._subplots.AxesSubplot at 0x7f19b6202a30>"
            ]
          },
          "metadata": {},
          "execution_count": 38
        },
        {
          "output_type": "display_data",
          "data": {
            "text/plain": [
              "<Figure size 576x576 with 1 Axes>"
            ],
            "image/png": "[encoded data removed]"
          },
          "metadata": {
            "needs_background": "light"
          }
        }
      ]
    },
    {
      "cell_type": "code",
      "source": [
        "df = avglen(df)\n",
        "session =sessionduration(df)\n",
        "aggri =item_aggregates(df)\n",
        "#df_item\n",
        "page= pageevent_dailyormonthly(df)\n",
        "#print(df_page)\n"
      ],
      "metadata": {
        "id": "VFOV5_-JtOGT"
      },
      "execution_count": 39,
      "outputs": []
    },
    {
      "cell_type": "code",
      "source": [
        "df = mergefeature(df,session,aggri,page)"
      ],
      "metadata": {
        "id": "hqn9vsegwiGH"
      },
      "execution_count": 40,
      "outputs": []
    },
    {
      "cell_type": "code",
      "source": [
        "df.show()"
      ],
      "metadata": {
        "id": "vdDotzxuxTRM",
        "colab": {
          "base_uri": "https://localhost:8080/"
        },
        "outputId": "fb54721c-25d2-48cb-bca6-a9ddd19847d5"
      },
      "execution_count": 41,
      "outputs": [
        {
          "output_type": "stream",
          "name": "stdout",
          "text": [
            "+--------------------------+----------------------------+------------------+-----------------+--------------------+------------------+-------------------+------------------+---------------+------------------+------------------+------------------+------------------+-----------------------+--------------------+------------------+----------------------+-------------------+-----------------------+------------------+-------------------------+----------------------+--------------------+---------------------+--------------------+-----------------+-----------------+-------------------+----------------+------------------+-------------------------+----------------------+--------------------+------------------------+---------------------+-------------------------+----------------+---------------------------+----------------+------+-----------+-----+---------------+-----------+\n",
            "|avg_daily_session_duration|avg_monthly_session_duration|   avg_daily_items|avg_monthly_items|avg_daily_RollAdvert|avg_daily_Settings|avg_daily_Downgrade|avg_daily_NextSong|avg_daily_Error|   avg_daily_About| avg_daily_Upgrade|    avg_daily_Home|  avg_daily_Logout|avg_daily_AddtoPlaylist|avg_daily_ThumbsDown|avg_daily_ThumbsUp|avg_daily_SaveSettings|avg_daily_AddFriend|avg_daily_SubmitUpgrade|    avg_daily_Help|avg_daily_SubmitDowngrade|avg_monthly_RollAdvert|avg_monthly_Settings|avg_monthly_Downgrade|avg_monthly_NextSong|avg_monthly_Error|avg_monthly_About|avg_monthly_Upgrade|avg_monthly_Home|avg_monthly_Logout|avg_monthly_AddtoPlaylist|avg_monthly_ThumbsDown|avg_monthly_ThumbsUp|avg_monthly_SaveSettings|avg_monthly_AddFriend|avg_monthly_SubmitUpgrade|avg_monthly_Help|avg_monthly_SubmitDowngrade|last_interaction|gender|   location|label|registered_days|valid_level|\n",
            "+--------------------------+----------------------------+------------------+-----------------+--------------------+------------------+-------------------+------------------+---------------+------------------+------------------+------------------+------------------+-----------------------+--------------------+------------------+----------------------+-------------------+-----------------------+------------------+-------------------------+----------------------+--------------------+---------------------+--------------------+-----------------+-----------------+-------------------+----------------+------------------+-------------------------+----------------------+--------------------+------------------------+---------------------+-------------------------+----------------+---------------------------+----------------+------+-----------+-----+---------------+-----------+\n",
            "|                    6254.0|                      6254.0|              24.0|             24.0|                 1.0|               0.0|                0.0|              24.0|            0.0|               0.0|               0.0|               0.0|               0.0|                    0.0|                 0.0|               0.0|                   0.0|                0.0|                    0.0|               0.0|                      0.0|                   1.0|                 0.0|                  0.0|                24.0|              0.0|              0.0|                0.0|             0.0|               0.0|                      0.0|                   0.0|                 0.0|                     0.0|                  0.0|                      0.0|             0.0|                        0.0|   1543401990000|     M|         MT|    0|            110|       free|\n",
            "|                   13246.5|                     16262.0|             70.75|            124.5|   6.333333333333333|               0.0|                0.0|             54.75|            0.0|               0.0|               1.0|              3.25|1.6666666666666667|                    3.0|                 0.0|               4.0|                   0.0|                1.0|                    0.0|               1.0|                      0.0|                   9.5|                 0.0|                  0.0|               109.5|              0.0|              0.0|                1.0|             6.5|               2.5|                      3.0|                   0.0|                 6.0|                     0.0|                  1.0|                      0.0|             1.0|                        0.0|   1541110978000|     M|         AZ|    0|             42|       free|\n",
            "|         13753.21052631579|          14771.694444444445| 76.94736842105263|            278.0|                5.75|               1.5| 1.4285714285714286|62.611111111111114|            1.0|               1.0|1.3333333333333333|            4.3125|               2.0|                    2.5|  1.6666666666666667|3.9285714285714284|                   1.5|                1.8|                    1.0|               1.0|                      1.0|                  23.0|                 4.5|                  5.0|               563.5|              1.0|              1.0|                2.0|            34.5|               9.0|                     17.5|                   7.5|                27.5|                     1.5|                  4.5|                      1.0|             1.0|                        1.0|   1543568283000|     M|         TX|    0|            256|       paid|\n",
            "|         6101.766666666666|           7921.972222222222| 37.46666666666667|            108.0|                 3.5|               1.0|                0.0|              30.8|            0.0|               1.0|               2.0|               2.4|1.2222222222222223|                    1.5|                 1.0|1.7142857142857142|                   1.0| 2.2857142857142856|                    0.0|               1.0|                      0.0|                  17.5|                 2.5|                  0.0|               231.0|              0.0|              1.0|                3.0|            18.0|               5.5|                      3.0|                   2.0|                 6.0|                     1.0|                  8.0|                      0.0|             1.5|                        0.0|   1543409350000|     M|         WA|    0|             78|       free|\n",
            "|        21386.954545454544|           25398.67948717949| 138.4090909090909|            379.5|   2.142857142857143|               2.0|                1.6|  99.5909090909091|            1.0|1.3333333333333333|               1.5|3.9473684210526314|1.6666666666666667|      3.111111111111111|  2.1538461538461537| 6.052631578947368|                   0.0| 2.8461538461538463|                    1.0|               1.5|                      1.0|                   7.5|                 8.0|                  8.0|              1095.5|              2.0|              4.0|                3.0|            37.5|              10.0|                     28.0|                  14.0|                57.5|                     0.0|                 18.5|                      1.0|             6.0|                        1.0|   1543595046000|     M|      MA-NH|    0|             60|       free|\n",
            "|                   44981.5|                     90144.0|             404.5|            435.0|                 0.0|               1.0|                1.0|             180.0|            1.0|               0.0|               0.0|               7.5|               4.0|                    7.0|                 1.0|               8.5|                   0.0|                3.0|                    0.0|               3.0|                      0.0|                   0.0|                 2.0|                  1.0|               360.0|              1.0|              0.0|                0.0|            15.0|               4.0|                     14.0|                   1.0|                17.0|                     0.0|                  3.0|                      0.0|             3.0|                        0.0|   1539055364000|     M|         MS|    1|             10|       paid|\n",
            "|        15128.689655172413|          16899.851648351647| 98.89655172413794|            357.0|                 3.0|1.4285714285714286|               2.25|60.464285714285715|            1.0|               1.0|1.3333333333333333|3.5217391304347827|1.7142857142857142|      3.526315789473684|                 2.1| 4.421052631578948|                   1.0|              1.875|                    1.0|              2.25|                      0.0|                  24.0|                 5.0|                  9.0|               846.5|              1.5|              1.0|                2.0|            40.5|              12.0|                     33.5|                  10.5|                42.0|                     1.0|                  7.5|                      1.0|             9.0|                        0.0|   1543596253000|     F|PA-NJ-DE-MD|    0|             60|       paid|\n",
            "|        3833.6666666666665|                     3507.75|19.666666666666668|             25.5|                 1.0|               0.0|                0.0|              17.0|            0.0|               0.0|               0.0|               1.0|               0.0|                    2.0|                 0.0|               1.0|                   0.0|                1.0|                    0.0|               0.0|                      0.0|                   1.0|                 0.0|                  0.0|                25.5|              0.0|              0.0|                0.0|             1.0|               0.0|                      4.0|                   0.0|                 1.5|                     0.0|                  1.0|                      0.0|             0.0|                        0.0|   1542049793000|     F|         OH|    0|             54|       free|\n",
            "|                   14242.0|                     14242.0|              76.0|             76.0|                 5.0|               0.0|                0.0|              62.0|            0.0|               1.0|               1.0|               2.0|               0.0|                    1.0|                 0.0|               1.0|                   0.0|                1.0|                    0.0|               1.0|                      0.0|                   5.0|                 0.0|                  0.0|                62.0|              0.0|              1.0|                1.0|             2.0|               0.0|                      1.0|                   0.0|                 1.0|                     0.0|                  1.0|                      0.0|             1.0|                        0.0|   1540909572000|     F|   OH-KY-IN|    0|             37|       free|\n",
            "|         4769.357142857143|           8450.988888888889|33.714285714285715|            154.5|   4.833333333333333|               1.0|                1.0|31.076923076923077|            0.0|               0.0|               4.0|              3.25|2.3333333333333335|     1.6666666666666667|                 1.0| 4.333333333333333|                   0.0|               1.25|                    1.0|               1.0|                      0.0|                  14.5|                 1.0|                  1.0|               202.0|              0.0|              0.0|                4.0|            13.0|               3.5|                      2.5|                   1.0|                 6.5|                     0.0|                  2.5|                      1.0|             1.5|                        0.0|   1543622350000|     F|         FL|    0|             84|       paid|\n",
            "|        12856.333333333334|                     19435.5| 67.66666666666667|            124.0|                 0.0|               1.0|                0.0|              43.0|            0.0|               1.0|               2.0|3.3333333333333335|               3.0|                    2.0|                 0.0|               3.5|                   0.0| 2.6666666666666665|                    1.0|               0.0|                      0.0|                   0.0|                 1.0|                  0.0|               129.0|              0.0|              1.0|                2.0|            10.0|               3.0|                      4.0|                   0.0|                 7.0|                     0.0|                  8.0|                      1.0|             0.0|                        0.0|   1540856767000|     M|         CA|    0|             46|       paid|\n",
            "|        13401.458333333332|          18736.005555555555|              99.1|            312.0|                 1.5|1.1666666666666667|              1.375|              73.2|            1.0|               1.2|               1.5|             4.625| 2.272727272727273|                  3.375|  1.1428571428571428| 4.647058823529412|                   0.0|               1.75|                    1.0|               1.0|                      0.0|                   3.0|                 3.5|                  5.5|               732.0|              1.0|              3.0|                3.0|            37.0|              12.5|                     27.0|                   4.0|                39.5|                     0.0|                  7.0|                      1.0|             3.5|                        0.0|   1543622376000|     M|         CT|    0|            108|       paid|\n",
            "|        11771.833333333334|          13089.076923076924| 86.58333333333333|            366.0|   3.888888888888889|               2.5| 2.6666666666666665|57.666666666666664|            0.0|              1.25|               1.0| 3.909090909090909|2.1666666666666665|     2.8333333333333335|                 1.4| 2.888888888888889|                   1.0| 2.3333333333333335|                    1.0|               2.0|                      0.0|                  35.0|                10.0|                  8.0|               692.0|              0.0|              5.0|                1.0|            43.0|              13.0|                     17.0|                   7.0|                26.0|                     2.0|                 14.0|                      1.0|             2.0|                        0.0|   1539968001000|     F|         OH|    1|             27|       paid|\n",
            "|        10934.466666666665|           12644.20652173913| 74.74285714285715|            211.5|  3.8421052631578947|1.0833333333333333|              1.125| 54.48571428571429|           1.25|              1.25|1.3333333333333333|3.2142857142857144|1.7222222222222223|     2.2857142857142856|  1.4166666666666667|3.4615384615384617|                   1.0|  2.857142857142857|                    1.0|1.5555555555555556|                      1.0|                  36.5|                 6.5|                  4.5|               953.5|              5.0|              2.5|                2.0|            45.0|              15.5|                     24.0|                   8.5|                45.0|                     1.0|                 20.0|                      1.0|             7.0|                        1.0|   1543536707000|     M|         CA|    0|             75|       paid|\n",
            "|                    4986.0|                      5380.0| 29.22222222222222|             92.0|                 1.4|               1.0|                2.0|22.333333333333332|            0.0|               0.0|               1.0| 2.142857142857143|               1.0|                   2.75|                 1.0|               1.8|                   0.0|                1.0|                    1.0|               1.0|                      0.0|                   7.0|                 1.0|                  4.0|               201.0|              0.0|              0.0|                2.0|            15.0|               4.0|                     11.0|                   1.0|                 9.0|                     0.0|                  1.0|                      1.0|             2.0|                        0.0|   1539831896000|     M|         AZ|    1|             30|       paid|\n",
            "|        17807.555555555555|          22176.303571428572|118.38888888888889|            276.5|                 1.6|1.1666666666666667|  2.142857142857143| 76.05555555555556|            1.0|1.7142857142857142|               1.0|               3.8| 2.090909090909091|     2.9166666666666665|                 1.5| 4.133333333333334|                   1.0|  2.909090909090909|                    1.0|               1.0|                      0.0|                   4.0|                 3.5|                  7.5|               684.5|              1.0|              6.0|                1.0|            28.5|              11.5|                     17.5|                   4.5|                31.0|                     1.0|                 16.0|                      1.0|             4.0|                        0.0|   1543269412000|     M|         CT|    0|            162|       paid|\n",
            "|                 24261.875|          39529.066666666666|155.58333333333334|            426.5|                 2.5|1.8571428571428572|                2.0|            103.25|            2.0|               1.0|               1.0|               4.0|             1.625|     3.5555555555555554|  1.5714285714285714|               5.9|                   1.0|  2.111111111111111|                    1.0|               1.4|                      0.0|                  10.0|                 6.5|                  4.0|               619.5|              2.0|              2.5|                3.0|            24.0|               6.5|                     16.0|                   5.5|                29.5|                     1.0|                  9.5|                      1.0|             3.5|                        0.0|   1543337414000|     M|         FL|    1|             77|       paid|\n",
            "|        12015.083333333332|           10858.57142857143|              95.0|            273.0|   4.333333333333333|               1.5|                2.0|            78.625|            1.0|               1.0|1.6666666666666667|              4.25|              2.25|      2.857142857142857|                 1.8|             3.125|                   1.0| 2.6666666666666665|                    1.0|1.6666666666666667|                      0.0|                  26.0|                 6.0|                  4.0|               629.0|              1.0|              2.0|                5.0|            34.0|               9.0|                     20.0|                   9.0|                25.0|                     1.0|                 16.0|                      1.0|             5.0|                        0.0|   1539011456000|     F|         CA|    1|            115|       paid|\n",
            "|                   11778.9|                   14780.625|              84.0|            136.0|                 3.0|               1.0|                2.0|              48.4|            0.0|               0.0|               1.0|              3.25|               1.0|     2.1666666666666665|                 1.5|2.6666666666666665|                   0.0|                2.0|                    1.0|               1.0|                      0.0|                  12.0|                 1.0|                  8.0|               242.0|              0.0|              0.0|                1.0|            13.0|               1.0|                      6.5|                   3.0|                12.0|                     0.0|                  4.0|                      1.0|             1.0|                        0.0|   1542032682000|     F|         NH|    1|             99|       paid|\n",
            "|         20681.85714285714|          24167.333333333336|105.28571428571429|            258.5|  1.3333333333333333|               2.0| 1.3333333333333333| 81.57142857142857|            2.0|               0.0|               1.0|3.2857142857142856|               1.5|                    4.0|  1.6666666666666667| 4.166666666666667|                   0.0|                1.5|                    1.0|               1.0|                      0.0|                   4.0|                 2.0|                  2.0|               285.5|              2.0|              0.0|                1.0|            11.5|               3.0|                      8.0|                   2.5|                12.5|                     0.0|                  6.0|                      1.0|             1.5|                        0.0|   1543508666000|     F|      MA-NH|    0|             80|       paid|\n",
            "+--------------------------+----------------------------+------------------+-----------------+--------------------+------------------+-------------------+------------------+---------------+------------------+------------------+------------------+------------------+-----------------------+--------------------+------------------+----------------------+-------------------+-----------------------+------------------+-------------------------+----------------------+--------------------+---------------------+--------------------+-----------------+-----------------+-------------------+----------------+------------------+-------------------------+----------------------+--------------------+------------------------+---------------------+-------------------------+----------------+---------------------------+----------------+------+-----------+-----+---------------+-----------+\n",
            "only showing top 20 rows\n",
            "\n"
          ]
        }
      ]
    },
    {
      "cell_type": "markdown",
      "source": [
        "# **Data Modeling**"
      ],
      "metadata": {
        "id": "J4PDJH7dkH3w"
      }
    },
    {
      "cell_type": "code",
      "source": [
        "finalmodeldata = datapostprocess(df)"
      ],
      "metadata": {
        "id": "nCF9o3ILxTZ4"
      },
      "execution_count": 42,
      "outputs": []
    },
    {
      "cell_type": "code",
      "source": [
        "## Spliting data into 70-30 Ratio (i.e. 70% Train Dataset, 30% Test Dataset with sandom seed=69)\n",
        "X_train, X_test = finalmodeldata.randomSplit([0.7, 0.3], seed=69)"
      ],
      "metadata": {
        "id": "7cdbTZKexTb6"
      },
      "execution_count": 43,
      "outputs": []
    },
    {
      "cell_type": "code",
      "source": [
        "# for model in ['logistic_regression','random_forest','gradient_boosting']:\n",
        "#     predictionfunction(train, test, model)"
      ],
      "metadata": {
        "id": "11fmH6PsxTeO"
      },
      "execution_count": 44,
      "outputs": []
    },
    {
      "cell_type": "code",
      "source": [
        "model1='Logistic-Regression'\n",
        "predictionfunction(X_train,X_test,model1)\n",
        "\n",
        "model2='Random-Forest'\n",
        "predictionfunction(X_train,X_test,model2)\n",
        "\n",
        "model3='Gradient-Boost'\n",
        "predictionfunction(X_train,X_test,model3)\n"
      ],
      "metadata": {
        "id": "15LdIWFgxThl",
        "colab": {
          "base_uri": "https://localhost:8080/"
        },
        "outputId": "e1f32eec-9f8a-4065-bdd3-d3bc82a0f7bc"
      },
      "execution_count": 45,
      "outputs": [
        {
          "output_type": "stream",
          "name": "stdout",
          "text": [
            "The F1 score on the test set is 85.29%\n",
            "The F1 score on the test set is 83.28%\n",
            "The F1 score on the test set is 88.55%\n"
          ]
        },
        {
          "output_type": "execute_result",
          "data": {
            "text/plain": [
              "(GBTClassificationModel: uid = GBTClassifier_649c4f10a0ad, numTrees=20, numClasses=2, numFeatures=40,\n",
              " DataFrame[avg_daily_session_duration: double, avg_monthly_session_duration: double, avg_daily_items: double, avg_monthly_items: double, avg_daily_RollAdvert: double, avg_daily_Settings: double, avg_daily_Downgrade: double, avg_daily_NextSong: double, avg_daily_Error: double, avg_daily_About: double, avg_daily_Upgrade: double, avg_daily_Home: double, avg_daily_Logout: double, avg_daily_AddtoPlaylist: double, avg_daily_ThumbsDown: double, avg_daily_ThumbsUp: double, avg_daily_SaveSettings: double, avg_daily_AddFriend: double, avg_daily_SubmitUpgrade: double, avg_daily_Help: double, avg_daily_SubmitDowngrade: double, avg_monthly_RollAdvert: double, avg_monthly_Settings: double, avg_monthly_Downgrade: double, avg_monthly_NextSong: double, avg_monthly_Error: double, avg_monthly_About: double, avg_monthly_Upgrade: double, avg_monthly_Home: double, avg_monthly_Logout: double, avg_monthly_AddtoPlaylist: double, avg_monthly_ThumbsDown: double, avg_monthly_ThumbsUp: double, avg_monthly_SaveSettings: double, avg_monthly_AddFriend: double, avg_monthly_SubmitUpgrade: double, avg_monthly_Help: double, avg_monthly_SubmitDowngrade: double, last_interaction: bigint, gender: string, location: string, label: int, registered_days: int, valid_level: string, gender_index: double, location_index: double, features: vector, rawPrediction: vector, probability: vector, prediction: double])"
            ]
          },
          "metadata": {},
          "execution_count": 45
        }
      ]
    },
    {
      "cell_type": "code",
      "source": [],
      "metadata": {
        "id": "PMQfM3ZYaNut"
      },
      "execution_count": 45,
      "outputs": []
    }
  ]
}